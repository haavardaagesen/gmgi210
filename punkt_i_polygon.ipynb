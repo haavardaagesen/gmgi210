{
 "cells": [
  {
   "cell_type": "markdown",
   "id": "f4af5302",
   "metadata": {},
   "source": [
    "# Introduksjon til automatisering av GIS"
   ]
  },
  {
   "cell_type": "markdown",
   "id": "e52bb861",
   "metadata": {},
   "source": [
    "Når det kommer til datavitenskap (data science), og spesielt romlig (spatial) datavitenskap og romlig dataanalyse, er Python for tiden det mest nyttige programmerings- eller skriptspråket å lære. På den ene siden er Python-økosystemet, som lar folk enkelt dele bibliotekene sine med andre, veldig rikt, og har pakker for nesten enhver tenkelig oppgave.\n",
    "\n",
    "Det er flere fordeler mer spesifikt for geografer og romlig data: de fleste stasjonære GIS-programmer (f.eks. QGIS, ESRI ArcGIS e.l.) har programmeringsgrensesnitt mot Python: det betyr at du kan skrive Python-programmer som samhandler med data, biblioteker og brukergrensesnitt for disse programmene, og lage egendefinerte plugins for å utvide funksjonaliteten deres. Utover det, finnes det kraftige Python-pakker for nesten enhver oppgave innenfor romlig datahåndtering og romlig analyse.\n",
    "\n",
    "I dag får dere en introduksjon til hvordan dere kan bruke Python til GIS-analyser, og til hvordan emnet GMGI221 - Automatisering av GIS-prosesser fungerer. Vi bruker Notebooks, sånn som denne, som består av både Markdown-celler og Python kode-celler"
   ]
  },
  {
   "cell_type": "code",
   "execution_count": null,
   "id": "f61b3329",
   "metadata": {},
   "outputs": [],
   "source": [
    "# Dette er en kode-celle, den kan køres i Jupyter Notebook\n",
    "\n",
    "print(\"Hello, world!\")"
   ]
  },
  {
   "cell_type": "markdown",
   "id": "d0759ac2",
   "metadata": {},
   "source": [
    "<div style=\"border: 1px solid #ccc; padding: 10px; border-radius: 5px; background-color:rgb(177, 226, 250); color:#000;\">\n",
    "<strong>Spørsmål:</strong><br>\n",
    "Kjør cellen under for å svare på spørsmålet:\n",
    "</div>"
   ]
  },
  {
   "cell_type": "code",
   "execution_count": null,
   "id": "4a004dae",
   "metadata": {},
   "outputs": [],
   "source": [
    "from IPython.display import IFrame\n",
    "\n",
    "## SPØRSMÅL om bakgrunnsferdigheter\n",
    "\n",
    "IFrame(\"https://haavard-polling.vercel.app/answer/0844ed85-0656-4ee0-9d2c-b044bb0a5119\", width=900, height=500)"
   ]
  },
  {
   "cell_type": "markdown",
   "id": "44461e15",
   "metadata": {},
   "source": [
    "# Geometriske objekter\n",
    "\n",
    "`Punkt(Points)`, `Linjer(Lines)` og `Polygoner(Polygons)` er fundamentale geometriske objekter når vi jobber med romlig data i vektor format. I Python er [Shapely](https://shapely.readthedocs.io/en/stable/manual.html) modulen som brukes for å utføre diverse geometriske operasjoner.\n",
    "\n",
    "**Geometriske objekter består av koordinattuppler hvor:**\n",
    "\n",
    "-  `Point` -objektet representerer et enkelt punkt i et rom. Punkt kan være enten todimensjonale (x, y) eller tredimensjonale (x, y, z).\n",
    "-  `LineString` -objektet representerer en sekvens av punkt som er koblet sammen og former en linje. En linje består dermed av en liste med minst to koordinattuppler.\n",
    "-  `Polygon` -objektet representerer et fyllt område som består av en liste med misnt tre koordinattuppler som utgjør den ytre ringen (og potensielt en liste med \"hull-polygoner\".\n",
    "  \n",
    "<img src=\"https://pythongis.org/_images/vector_data_model.png\" alt=\"Romlig datamodell\" width=\"800\">"
   ]
  },
  {
   "cell_type": "markdown",
   "id": "37caae4a-2241-4c1f-9587-f426e02d9049",
   "metadata": {},
   "source": [
    "# Punkt i polygon"
   ]
  },
  {
   "cell_type": "markdown",
   "id": "5c777b34-8dab-43a8-854b-505fe9902e97",
   "metadata": {},
   "source": [
    "Det å finne ut om et spesifikt punkt befinner seg innenfor eller utenfor et omåde, eller om en linje krysser en annen linje eller et polygon, er fundamentale geografiske operasjoner. Slike romlige spørringer er typisk et av de første stegene i romlige analyser. Kobling av ulike romlige dataset er et av de vanligste stedene hvor punkt i polygon (PIP)-analyser utføres."
   ]
  },
  {
   "cell_type": "markdown",
   "id": "33a7275b-740e-4541-b1af-dfaa07a12e0b",
   "metadata": {},
   "source": [
    "Du kan lese mer om den [teoretiske bakgrunnen for PIP-analyse](https://en.wikipedia.org/wiki/Point_in_polygon#Ray_casting_algorithm) hvis du ønsker."
   ]
  },
  {
   "cell_type": "markdown",
   "id": "6fb4c5a2-6440-4d4c-8706-310b66f35269",
   "metadata": {},
   "source": [
    "I Shapely er det i hovedsak to måter å utføre en PIP-analyse:\n",
    "\n",
    "1. Bruk av [within()](https://shapely.readthedocs.io/en/stable/manual.html#object.within) funksjonen som sjekker hvorvidt et punkt befinner seg inni et polygon\n",
    "2. Bruk av [contains()](https://shapely.readthedocs.io/en/stable/manual.html#object.contains) funksjonen som sjekket om et polygon inneholder et punkt.\n",
    "\n",
    "Selv om vi her snakker om **punkt** i polygon, er det også mulig å sjekke hvorvidt en linje eller et polygon er innenfor et annet polygon."
   ]
  },
  {
   "cell_type": "markdown",
   "id": "efb5bd29-2f80-44c9-817c-2dfeabeb286d",
   "metadata": {},
   "source": [
    "La oss lage noen punkt og utforske shapely-funksjonaliteten:"
   ]
  },
  {
   "cell_type": "code",
   "execution_count": null,
   "id": "20f7a3a2-6b9d-4503-9993-a8a0a1c956d7",
   "metadata": {
    "tags": []
   },
   "outputs": [],
   "source": [
    "from shapely.geometry import Point, Polygon\n",
    "\n",
    "# Create Point objects\n",
    "punkt1 = Point(10.39506,63.43049)\n",
    "punkt2 = Point(10.39693,63.42692)"
   ]
  },
  {
   "cell_type": "code",
   "execution_count": null,
   "id": "e74e7118-cca7-415a-89b0-d806fb52803d",
   "metadata": {
    "tags": []
   },
   "outputs": [],
   "source": []
  },
  {
   "cell_type": "markdown",
   "id": "81b6591e-b0d3-4aeb-8e27-933b08f64e87",
   "metadata": {},
   "source": [
    "La oss lage et polygon fra noen hjørne-koordinater:"
   ]
  },
  {
   "cell_type": "code",
   "execution_count": null,
   "id": "e7521f02-4d00-4c0a-aed6-18ffa814c340",
   "metadata": {
    "tags": []
   },
   "outputs": [],
   "source": [
    "koordinater = [(10.39444,63.43090),(10.39427,63.43010),(10.39594,63.43003),(10.39607,63.43084)]\n",
    "polygon = "
   ]
  },
  {
   "cell_type": "code",
   "execution_count": null,
   "id": "1bab74ca-4f02-4e2e-b08e-5ff14c8630c6",
   "metadata": {
    "tags": []
   },
   "outputs": [],
   "source": []
  },
  {
   "cell_type": "code",
   "execution_count": null,
   "id": "7d06219c-d03d-4eb1-8838-50be188ab0dc",
   "metadata": {
    "tags": []
   },
   "outputs": [],
   "source": [
    "# Check points and polygon\n"
   ]
  },
  {
   "cell_type": "markdown",
   "id": "19a6ee96-7e91-4d55-ae65-75ccf6ba3525",
   "metadata": {},
   "source": [
    "Vi kan nå sjekke hvorvidt punktene er innenfor polygonet vårt:"
   ]
  },
  {
   "cell_type": "code",
   "execution_count": null,
   "id": "d9c013f6-090b-43e4-88e2-829349bf06c7",
   "metadata": {},
   "outputs": [],
   "source": []
  },
  {
   "cell_type": "code",
   "execution_count": null,
   "id": "28da9077-ad79-4447-b88d-e9a397ee7c5c",
   "metadata": {},
   "outputs": [],
   "source": []
  },
  {
   "cell_type": "markdown",
   "id": "dbb98092-1b92-4824-87bd-e8c6d095e6ad",
   "metadata": {
    "execution": {
     "iopub.execute_input": "2022-09-26T11:32:23.798528Z",
     "iopub.status.busy": "2022-09-26T11:32:23.798335Z",
     "iopub.status.idle": "2022-09-26T11:32:23.801299Z",
     "shell.execute_reply": "2022-09-26T11:32:23.800856Z",
     "shell.execute_reply.started": "2022-09-26T11:32:23.798513Z"
    }
   },
   "source": [
    "Altså, det første punktet vårt befinner seg innenfor polygonet, mens det andre punktet ikke gjør det. Faktisk er det første punktet nesten i midten av polygonet vårt, noe vi kan se hvis vi bruker ``centroid`` attributten til polygonet vårt."
   ]
  },
  {
   "cell_type": "code",
   "execution_count": null,
   "id": "75f37d44-9065-4484-b70e-363f5e014f9f",
   "metadata": {},
   "outputs": [],
   "source": []
  },
  {
   "cell_type": "markdown",
   "id": "a6f915a7-4650-4d19-bc9c-8456c15c4572",
   "metadata": {},
   "source": [
    "Vi kan også bruke motsatt metode for å sjekke hvorvidt polygonet vårt inneholder de to punktene:"
   ]
  },
  {
   "cell_type": "code",
   "execution_count": null,
   "id": "3c8e7be1-bd05-4877-b8eb-895a284ca6a1",
   "metadata": {
    "tags": []
   },
   "outputs": [],
   "source": []
  },
  {
   "cell_type": "markdown",
   "id": "b35f9ab7",
   "metadata": {},
   "source": [
    "<div style=\"border: 1px solid #ccc; padding: 10px; border-radius: 5px; background-color:rgb(177, 226, 250); color:#000;\">\n",
    "<strong>Spørsmål:</strong><br>\n",
    "Kjør cellen under for å svare på spørsmålet:\n",
    "</div>"
   ]
  },
  {
   "cell_type": "code",
   "execution_count": null,
   "id": "d47d41e1",
   "metadata": {},
   "outputs": [],
   "source": [
    "\"\"\" \"Hvilken av følgende oppgaver kan løses ved hjelp av en punkt-i-polygon-analyse?\"\n",
    "\n",
    "Alternativer:\n",
    "\n",
    "Identifisere hvilke tweets som ble postet inne i en park. ✅\n",
    "Beregne den korteste avstanden mellom to punkter.\n",
    "Sjekke om to polygoner overlapper.\n",
    "Finne arealet av et polygon.\"\"\""
   ]
  },
  {
   "cell_type": "markdown",
   "id": "e850915d-b2b3-473d-9911-f964eac9904f",
   "metadata": {},
   "source": [
    "## Punkt i polygon i Geopandas"
   ]
  },
  {
   "cell_type": "markdown",
   "id": "6490a697-065f-4330-98b4-b296e188ca64",
   "metadata": {},
   "source": [
    "PIP-analyser kan også gjøres for større datasett av gangen, for eksempel kan vi lese data inn i en GeoDataFrame og utføre en PIP-analyse på den:"
   ]
  },
  {
   "cell_type": "code",
   "execution_count": null,
   "id": "ef9d41c2-bc4b-4cef-9f91-194f956f1886",
   "metadata": {
    "tags": []
   },
   "outputs": [],
   "source": [
    "import geopandas as gpd\n",
    "import pandas as pd\n",
    "\n",
    "bydeler = gpd.read_file('https://github.com/haavardaagesen/gmgi210/raw/refs/heads/main/data/oslo_bydeler.gpkg')\n",
    "display(bydeler.head())"
   ]
  },
  {
   "cell_type": "markdown",
   "id": "ff7a667c-abc4-4cec-ac20-4fa7cad6d504",
   "metadata": {
    "execution": {
     "iopub.execute_input": "2022-09-27T12:19:14.069763Z",
     "iopub.status.busy": "2022-09-27T12:19:14.069544Z",
     "iopub.status.idle": "2022-09-27T12:19:14.073231Z",
     "shell.execute_reply": "2022-09-27T12:19:14.072530Z",
     "shell.execute_reply.started": "2022-09-27T12:19:14.069748Z"
    }
   },
   "source": [
    "La oss finne punkter i marka i Oslo:"
   ]
  },
  {
   "cell_type": "code",
   "execution_count": null,
   "id": "520d340b-788e-427b-96bd-c29af7d3a440",
   "metadata": {
    "tags": []
   },
   "outputs": [],
   "source": [
    "# Subset data to only one area\n",
    "marka = \n",
    "\n",
    "marka.reset_index(drop=True, inplace=True)"
   ]
  },
  {
   "cell_type": "code",
   "execution_count": null,
   "id": "9b2f972b-b51a-4062-8792-df1d95cfbdb8",
   "metadata": {
    "tags": []
   },
   "outputs": [],
   "source": [
    "import matplotlib.pyplot as plt\n",
    "\n",
    "# Create a figure with one subplot\n",
    "fig, ax = plt.subplots()\n",
    "\n",
    "# Plot polygons\n",
    "\n",
    "\n",
    "plt.tight_layout()"
   ]
  },
  {
   "cell_type": "markdown",
   "id": "138129f0-17cd-422f-99fa-896988a93f69",
   "metadata": {},
   "source": [
    "La oss laste inn punktdata vi kan gjøre PIP-analysen på. Punktdataene ligger her: `https://github.com/haavardaagesen/gmgi210/raw/refs/heads/main/data/oslo_tweets.gpkg`\n"
   ]
  },
  {
   "cell_type": "code",
   "execution_count": null,
   "id": "e69db908-c4ca-45a1-b348-dc81b8753c72",
   "metadata": {
    "tags": []
   },
   "outputs": [],
   "source": [
    "# https://github.com/haavardaagesen/gmgi210/raw/refs/heads/main/data/oslo_tweets.gpkg"
   ]
  },
  {
   "cell_type": "code",
   "execution_count": null,
   "id": "3d5b6457-91db-46a4-ac1d-fb81e8fd3c2d",
   "metadata": {
    "tags": []
   },
   "outputs": [],
   "source": [
    "# Create a figure with one subplot\n",
    "fig, ax = plt.subplots()\n",
    "\n",
    "# Plot polygons\n",
    "\n",
    "plt.tight_layout()"
   ]
  },
  {
   "cell_type": "markdown",
   "id": "a3df955e-8908-4155-94b8-5dcf7fc33c98",
   "metadata": {},
   "source": [
    "For å filtrere punktene våre, kan vi lage en maske ved å bruke ``within``\n",
    "funksjonaliteten i sentrums geometrien vår:"
   ]
  },
  {
   "cell_type": "code",
   "execution_count": null,
   "id": "dc41a4fc-c965-478c-b77a-72286707a345",
   "metadata": {
    "tags": []
   },
   "outputs": [],
   "source": []
  },
  {
   "cell_type": "code",
   "execution_count": null,
   "id": "5941c0fe-eda9-459c-9193-7e5859480f5c",
   "metadata": {
    "tags": []
   },
   "outputs": [],
   "source": []
  },
  {
   "cell_type": "markdown",
   "id": "8a35f0cb-ecfe-48a4-bad2-34ebf32bc5f2",
   "metadata": {
    "execution": {
     "iopub.execute_input": "2022-09-27T12:23:41.667138Z",
     "iopub.status.busy": "2022-09-27T12:23:41.666937Z",
     "iopub.status.idle": "2022-09-27T12:23:41.670356Z",
     "shell.execute_reply": "2022-09-27T12:23:41.669849Z",
     "shell.execute_reply.started": "2022-09-27T12:23:41.667123Z"
    }
   },
   "source": [
    "Vi kan nå velge punktene fra oslo_tweets, basert på masken vår:"
   ]
  },
  {
   "cell_type": "code",
   "execution_count": null,
   "id": "645037ac-166c-4866-a026-1cbd49bd7bd7",
   "metadata": {
    "tags": []
   },
   "outputs": [],
   "source": []
  },
  {
   "cell_type": "markdown",
   "id": "f657732d-c3b4-439e-97fe-85221d2496bb",
   "metadata": {},
   "source": [
    "Vi kan nå plotte de ulike lagene våre og se hvilke punkt som har blitt valgt ut:"
   ]
  },
  {
   "cell_type": "code",
   "execution_count": null,
   "id": "2c269bb6-2981-4e17-ba37-50e91ed82ede",
   "metadata": {
    "tags": []
   },
   "outputs": [],
   "source": [
    "# Create a figure with one subplot\n",
    "fig, ax = plt.subplots()\n",
    "\n",
    "# Plot polygons\n",
    "\n",
    "# Plot points\n",
    "\n",
    "\n",
    "plt.tight_layout()"
   ]
  },
  {
   "cell_type": "code",
   "execution_count": null,
   "id": "c9fe4c7f-306d-4c2a-8df5-4693a7bd3d52",
   "metadata": {},
   "outputs": [],
   "source": []
  },
  {
   "cell_type": "code",
   "execution_count": null,
   "id": "97e05c84-6bf7-4aa8-a770-d289df9259be",
   "metadata": {},
   "outputs": [],
   "source": []
  },
  {
   "cell_type": "markdown",
   "id": "08a05e14",
   "metadata": {},
   "source": [
    "<div style=\"border: 1px solid #ccc; padding: 10px; border-radius: 5px; background-color:rgb(177, 226, 250); color:#000;\">\n",
    "<strong>Spørsmål:</strong><br>\n",
    "Kjør cellen under for å svare på spørsmålet:\n",
    "</div>"
   ]
  },
  {
   "cell_type": "code",
   "execution_count": null,
   "id": "5a07a170",
   "metadata": {},
   "outputs": [],
   "source": [
    "\"\"\"Kommer du til å ta GMGI221?\"\"\""
   ]
  }
 ],
 "metadata": {
  "kernelspec": {
   "display_name": "Python 3 (ipykernel)",
   "language": "python",
   "name": "python3"
  },
  "language_info": {
   "codemirror_mode": {
    "name": "ipython",
    "version": 3
   },
   "file_extension": ".py",
   "mimetype": "text/x-python",
   "name": "python",
   "nbconvert_exporter": "python",
   "pygments_lexer": "ipython3",
   "version": "3.11.5"
  }
 },
 "nbformat": 4,
 "nbformat_minor": 5
}
