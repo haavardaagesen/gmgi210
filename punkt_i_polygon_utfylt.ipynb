{
 "cells": [
  {
   "cell_type": "markdown",
   "id": "8d750138",
   "metadata": {},
   "source": [
    "# Geometriske objekter\n",
    "\n",
    "`Punkt(Points)`, `Linjer(Lines)` og `Polygoner(Polygons)` er fundamentale geometriske objekter når vi jobber med romlig data i vektor format. I Python er [Shapely](https://shapely.readthedocs.io/en/stable/manual.html) modulen som brukes for å utføre diverse geometriske operasjoner.\n",
    "\n",
    "**Geometriske objekter består av koordinattuppler hvor:**\n",
    "\n",
    "-  `Point` -objektet representerer et enkelt punkt i et rom. Punkt kan være enten todimensjonale (x, y) eller tredimensjonale (x, y, z).\n",
    "-  `LineString` -objektet representerer en sekvens av punkt som er koblet sammen og former en linje. En linje består dermed av en liste med minst to koordinattuppler.\n",
    "-  `Polygon` -objektet representerer et fyllt område som består av en liste med misnt tre koordinattuppler som utgjør den ytre ringen (og potensielt en liste med \"hull-polygoner\".\n",
    "  \n",
    "![Romlig datamodell](https://pythongis.org/_images/vector_data_model.png)"
   ]
  },
  {
   "cell_type": "markdown",
   "id": "37caae4a-2241-4c1f-9587-f426e02d9049",
   "metadata": {},
   "source": [
    "# Punkt i polygon"
   ]
  },
  {
   "cell_type": "markdown",
   "id": "5c777b34-8dab-43a8-854b-505fe9902e97",
   "metadata": {},
   "source": [
    "Det å finne ut om et spesifikt punkt befinner seg innenfor eller utenfor et omåde, eller om en linje krysser en annen linje eller et polygon, er fundamentale geografiske operasjoner. Slike romlige spørringer er typisk et av de første stegene i romlige analyser. Kobling av ulike romlige dataset er et av de vanligste stedene hvor punkt i polygon (PIP)-analyser utføres."
   ]
  },
  {
   "cell_type": "markdown",
   "id": "33a7275b-740e-4541-b1af-dfaa07a12e0b",
   "metadata": {},
   "source": [
    "Du kan lese mer om den [teoretiske bakgrunnen for PIP-analyse](https://en.wikipedia.org/wiki/Point_in_polygon#Ray_casting_algorithm) hvis du ønsker."
   ]
  },
  {
   "cell_type": "markdown",
   "id": "6fb4c5a2-6440-4d4c-8706-310b66f35269",
   "metadata": {},
   "source": [
    "I Shapely er det i hovedsak to måter å utføre en PIP-analyse:\n",
    "\n",
    "1. Bruk av [within()](https://shapely.readthedocs.io/en/stable/manual.html#object.within) funksjonen som sjekker hvorvidt et punkt befinner seg inni et polygon\n",
    "2. Bruk av [contains()](https://shapely.readthedocs.io/en/stable/manual.html#object.contains) funksjonen som sjekket om et polygon inneholder et punkt.\n",
    "\n",
    "Selv om vi her snakker om **punkt** i polygon, er det også mulig å sjekke hvorvidt en linje eller et polygon er innenfor et annet polygon."
   ]
  },
  {
   "cell_type": "markdown",
   "id": "efb5bd29-2f80-44c9-817c-2dfeabeb286d",
   "metadata": {},
   "source": [
    "La oss lage noen punkt og utforske shapely-funksjonaliteten:"
   ]
  },
  {
   "cell_type": "code",
   "execution_count": 5,
   "id": "20f7a3a2-6b9d-4503-9993-a8a0a1c956d7",
   "metadata": {
    "tags": []
   },
   "outputs": [],
   "source": [
    "from shapely.geometry import Point, Polygon\n",
    "\n",
    "# Create Point objects\n",
    "punkt1 = Point(10.39506,63.43049)\n",
    "punkt2 = Point(10.39693,63.42692)"
   ]
  },
  {
   "cell_type": "code",
   "execution_count": 6,
   "id": "e74e7118-cca7-415a-89b0-d806fb52803d",
   "metadata": {
    "tags": []
   },
   "outputs": [
    {
     "data": {
      "image/svg+xml": [
       "<svg xmlns=\"http://www.w3.org/2000/svg\" xmlns:xlink=\"http://www.w3.org/1999/xlink\" width=\"100.0\" height=\"100.0\" viewBox=\"9.39506 62.43049 2.0 1.999999999999993\" preserveAspectRatio=\"xMinYMin meet\"><g transform=\"matrix(1,0,0,-1,0,126.86097999999998)\"><circle cx=\"10.39506\" cy=\"63.43049\" r=\"0.06\" stroke=\"#555555\" stroke-width=\"0.02\" fill=\"#66cc99\" opacity=\"0.6\" /></g></svg>"
      ],
      "text/plain": [
       "<shapely.geometry.point.Point at 0x7f1237841450>"
      ]
     },
     "execution_count": 6,
     "metadata": {},
     "output_type": "execute_result"
    }
   ],
   "source": [
    "punkt1"
   ]
  },
  {
   "cell_type": "markdown",
   "id": "81b6591e-b0d3-4aeb-8e27-933b08f64e87",
   "metadata": {},
   "source": [
    "La oss lage et polygon fra noen hjørne-koordinater:"
   ]
  },
  {
   "cell_type": "code",
   "execution_count": 7,
   "id": "e7521f02-4d00-4c0a-aed6-18ffa814c340",
   "metadata": {
    "tags": []
   },
   "outputs": [],
   "source": [
    "koordinater = [(10.39444,63.43090),(10.39427,63.43010),(10.39594,63.43003),(10.39607,63.43084)]\n",
    "polygon = Polygon(koordinater)"
   ]
  },
  {
   "cell_type": "code",
   "execution_count": 8,
   "id": "1bab74ca-4f02-4e2e-b08e-5ff14c8630c6",
   "metadata": {
    "tags": []
   },
   "outputs": [
    {
     "data": {
      "image/svg+xml": [
       "<svg xmlns=\"http://www.w3.org/2000/svg\" xmlns:xlink=\"http://www.w3.org/1999/xlink\" width=\"100.0\" height=\"100.0\" viewBox=\"10.394198000000001 63.429958 0.0019439999999981694 0.0010140000000049554\" preserveAspectRatio=\"xMinYMin meet\"><g transform=\"matrix(1,0,0,-1,0,126.86093)\"><path fill-rule=\"evenodd\" fill=\"#66cc99\" stroke=\"#555555\" stroke-width=\"3.887999999996339e-05\" opacity=\"0.6\" d=\"M 10.39444,63.4309 L 10.39427,63.4301 L 10.39594,63.43003 L 10.39607,63.43084 L 10.39444,63.4309 z\" /></g></svg>"
      ],
      "text/plain": [
       "<shapely.geometry.polygon.Polygon at 0x7f122ec61b90>"
      ]
     },
     "execution_count": 8,
     "metadata": {},
     "output_type": "execute_result"
    }
   ],
   "source": [
    "polygon"
   ]
  },
  {
   "cell_type": "code",
   "execution_count": 9,
   "id": "7d06219c-d03d-4eb1-8838-50be188ab0dc",
   "metadata": {
    "tags": []
   },
   "outputs": [
    {
     "name": "stdout",
     "output_type": "stream",
     "text": [
      "POINT (10.39506 63.43049)\n",
      "POINT (10.39693 63.42692)\n",
      "POLYGON ((10.39444 63.4309, 10.39427 63.4301, 10.39594 63.43003, 10.39607 63.43084, 10.39444 63.4309))\n"
     ]
    }
   ],
   "source": [
    "# Check points and polygon\n",
    "print(punkt1)\n",
    "print(punkt2)\n",
    "print(polygon)"
   ]
  },
  {
   "cell_type": "markdown",
   "id": "19a6ee96-7e91-4d55-ae65-75ccf6ba3525",
   "metadata": {},
   "source": [
    "Vi kan nå sjekke hvorvidt punktene er innenfor polygonet vårt:"
   ]
  },
  {
   "cell_type": "code",
   "execution_count": 10,
   "id": "d9c013f6-090b-43e4-88e2-829349bf06c7",
   "metadata": {},
   "outputs": [
    {
     "data": {
      "text/plain": [
       "True"
      ]
     },
     "execution_count": 10,
     "metadata": {},
     "output_type": "execute_result"
    }
   ],
   "source": [
    "punkt1.within(polygon)"
   ]
  },
  {
   "cell_type": "code",
   "execution_count": 11,
   "id": "28da9077-ad79-4447-b88d-e9a397ee7c5c",
   "metadata": {},
   "outputs": [
    {
     "data": {
      "text/plain": [
       "False"
      ]
     },
     "execution_count": 11,
     "metadata": {},
     "output_type": "execute_result"
    }
   ],
   "source": [
    "punkt2.within(polygon)"
   ]
  },
  {
   "cell_type": "markdown",
   "id": "dbb98092-1b92-4824-87bd-e8c6d095e6ad",
   "metadata": {
    "execution": {
     "iopub.execute_input": "2022-09-26T11:32:23.798528Z",
     "iopub.status.busy": "2022-09-26T11:32:23.798335Z",
     "iopub.status.idle": "2022-09-26T11:32:23.801299Z",
     "shell.execute_reply": "2022-09-26T11:32:23.800856Z",
     "shell.execute_reply.started": "2022-09-26T11:32:23.798513Z"
    }
   },
   "source": [
    "Altså, det første punktet vårt befinner seg innenfor polygonet, mens det andre punktet ikke gjør det. Faktisk er det første punktet nesten i midten av polygonet vårt, noe vi kan se hvis vi bruker ``centroid`` attributten til polygonet vårt."
   ]
  },
  {
   "cell_type": "code",
   "execution_count": 12,
   "id": "75f37d44-9065-4484-b70e-363f5e014f9f",
   "metadata": {},
   "outputs": [
    {
     "name": "stdout",
     "output_type": "stream",
     "text": [
      "POINT (10.39506 63.43049)\n",
      "POINT (10.39518111360239 63.43046575411061)\n"
     ]
    }
   ],
   "source": [
    "print(punkt1)\n",
    "print(polygon.centroid)"
   ]
  },
  {
   "cell_type": "markdown",
   "id": "a6f915a7-4650-4d19-bc9c-8456c15c4572",
   "metadata": {},
   "source": [
    "Vi kan også bruke motsatt metode for å sjekke hvorvidt polygonet vårt inneholder de to punktene:"
   ]
  },
  {
   "cell_type": "code",
   "execution_count": 13,
   "id": "3c8e7be1-bd05-4877-b8eb-895a284ca6a1",
   "metadata": {
    "tags": []
   },
   "outputs": [
    {
     "name": "stdout",
     "output_type": "stream",
     "text": [
      "True\n",
      "False\n"
     ]
    }
   ],
   "source": [
    "print(polygon.contains(punkt1))\n",
    "print(polygon.contains(punkt2))"
   ]
  },
  {
   "cell_type": "markdown",
   "id": "e850915d-b2b3-473d-9911-f964eac9904f",
   "metadata": {},
   "source": [
    "## Punkt i polygon i Geopandas"
   ]
  },
  {
   "cell_type": "markdown",
   "id": "6490a697-065f-4330-98b4-b296e188ca64",
   "metadata": {},
   "source": [
    "PIP-analyser kan også gjøres for større datasett av gangen, for eksempel kan vi lese data inn i en GeoDataFrame og utføre en PIP-analyse på den:"
   ]
  },
  {
   "cell_type": "code",
   "execution_count": 14,
   "id": "ef9d41c2-bc4b-4cef-9f91-194f956f1886",
   "metadata": {
    "tags": []
   },
   "outputs": [
    {
     "data": {
      "text/html": [
       "<div>\n",
       "<style scoped>\n",
       "    .dataframe tbody tr th:only-of-type {\n",
       "        vertical-align: middle;\n",
       "    }\n",
       "\n",
       "    .dataframe tbody tr th {\n",
       "        vertical-align: top;\n",
       "    }\n",
       "\n",
       "    .dataframe thead th {\n",
       "        text-align: right;\n",
       "    }\n",
       "</style>\n",
       "<table border=\"1\" class=\"dataframe\">\n",
       "  <thead>\n",
       "    <tr style=\"text-align: right;\">\n",
       "      <th></th>\n",
       "      <th>bydelsnr</th>\n",
       "      <th>bynavn</th>\n",
       "      <th>geometry</th>\n",
       "    </tr>\n",
       "  </thead>\n",
       "  <tbody>\n",
       "    <tr>\n",
       "      <th>0</th>\n",
       "      <td>030101</td>\n",
       "      <td>Oslo</td>\n",
       "      <td>POLYGON ((10.66087 59.88365, 10.66472 59.88484...</td>\n",
       "    </tr>\n",
       "    <tr>\n",
       "      <th>1</th>\n",
       "      <td>030102</td>\n",
       "      <td>Oslo</td>\n",
       "      <td>POLYGON ((10.75378 59.91469, 10.75453 59.91496...</td>\n",
       "    </tr>\n",
       "    <tr>\n",
       "      <th>2</th>\n",
       "      <td>030103</td>\n",
       "      <td>Oslo</td>\n",
       "      <td>POLYGON ((10.77156 59.93095, 10.77135 59.93092...</td>\n",
       "    </tr>\n",
       "    <tr>\n",
       "      <th>3</th>\n",
       "      <td>030104</td>\n",
       "      <td>Oslo</td>\n",
       "      <td>POLYGON ((10.75136 59.91923, 10.75158 59.91921...</td>\n",
       "    </tr>\n",
       "    <tr>\n",
       "      <th>4</th>\n",
       "      <td>030105</td>\n",
       "      <td>Oslo</td>\n",
       "      <td>POLYGON ((10.65562 59.89038, 10.65381 59.89477...</td>\n",
       "    </tr>\n",
       "  </tbody>\n",
       "</table>\n",
       "</div>"
      ],
      "text/plain": [
       "  bydelsnr bynavn                                           geometry\n",
       "0   030101   Oslo  POLYGON ((10.66087 59.88365, 10.66472 59.88484...\n",
       "1   030102   Oslo  POLYGON ((10.75378 59.91469, 10.75453 59.91496...\n",
       "2   030103   Oslo  POLYGON ((10.77156 59.93095, 10.77135 59.93092...\n",
       "3   030104   Oslo  POLYGON ((10.75136 59.91923, 10.75158 59.91921...\n",
       "4   030105   Oslo  POLYGON ((10.65562 59.89038, 10.65381 59.89477..."
      ]
     },
     "metadata": {},
     "output_type": "display_data"
    }
   ],
   "source": [
    "import geopandas as gpd\n",
    "import pandas as pd\n",
    "\n",
    "bydeler = gpd.read_file('https://github.com/haavardaagesen/gmgi210/raw/refs/heads/main/data/oslo_bydeler.gpkg')\n",
    "display(bydeler.head())"
   ]
  },
  {
   "cell_type": "markdown",
   "id": "ff7a667c-abc4-4cec-ac20-4fa7cad6d504",
   "metadata": {
    "execution": {
     "iopub.execute_input": "2022-09-27T12:19:14.069763Z",
     "iopub.status.busy": "2022-09-27T12:19:14.069544Z",
     "iopub.status.idle": "2022-09-27T12:19:14.073231Z",
     "shell.execute_reply": "2022-09-27T12:19:14.072530Z",
     "shell.execute_reply.started": "2022-09-27T12:19:14.069748Z"
    }
   },
   "source": [
    "La oss finne punkter i marka i Oslo:"
   ]
  },
  {
   "cell_type": "code",
   "execution_count": 15,
   "id": "520d340b-788e-427b-96bd-c29af7d3a440",
   "metadata": {
    "tags": []
   },
   "outputs": [],
   "source": [
    "# Subset data to only one area\n",
    "marka = bydeler.loc[bydeler['bydelsnr']=='030117']\n",
    "marka.reset_index(drop=True, inplace=True)"
   ]
  },
  {
   "cell_type": "code",
   "execution_count": 16,
   "id": "9b2f972b-b51a-4062-8792-df1d95cfbdb8",
   "metadata": {
    "tags": []
   },
   "outputs": [
    {
     "data": {
      "image/png": "[encoded data removed]",
      "text/plain": [
       "<Figure size 640x480 with 1 Axes>"
      ]
     },
     "metadata": {},
     "output_type": "display_data"
    }
   ],
   "source": [
    "import matplotlib.pyplot as plt\n",
    "\n",
    "# Create a figure with one subplot\n",
    "fig, ax = plt.subplots()\n",
    "\n",
    "# Plot polygons\n",
    "bydeler.plot(ax=ax, facecolor='gray')\n",
    "marka.plot(ax=ax, facecolor='red')\n",
    "\n",
    "plt.tight_layout()"
   ]
  },
  {
   "cell_type": "markdown",
   "id": "138129f0-17cd-422f-99fa-896988a93f69",
   "metadata": {},
   "source": [
    "La oss laste inn punktdata vi kan gjøre PIP-analysen på:"
   ]
  },
  {
   "cell_type": "code",
   "execution_count": 17,
   "id": "e69db908-c4ca-45a1-b348-dc81b8753c72",
   "metadata": {
    "tags": []
   },
   "outputs": [
    {
     "data": {
      "text/html": [
       "<div>\n",
       "<style scoped>\n",
       "    .dataframe tbody tr th:only-of-type {\n",
       "        vertical-align: middle;\n",
       "    }\n",
       "\n",
       "    .dataframe tbody tr th {\n",
       "        vertical-align: top;\n",
       "    }\n",
       "\n",
       "    .dataframe thead th {\n",
       "        text-align: right;\n",
       "    }\n",
       "</style>\n",
       "<table border=\"1\" class=\"dataframe\">\n",
       "  <thead>\n",
       "    <tr style=\"text-align: right;\">\n",
       "      <th></th>\n",
       "      <th>id</th>\n",
       "      <th>lat</th>\n",
       "      <th>lon</th>\n",
       "      <th>id_str</th>\n",
       "      <th>row_id</th>\n",
       "      <th>user_id</th>\n",
       "      <th>geometry</th>\n",
       "    </tr>\n",
       "  </thead>\n",
       "  <tbody>\n",
       "    <tr>\n",
       "      <th>0</th>\n",
       "      <td>982346962690367488</td>\n",
       "      <td>59.93626</td>\n",
       "      <td>10.82732</td>\n",
       "      <td>1200483</td>\n",
       "      <td>None</td>\n",
       "      <td>None</td>\n",
       "      <td>POINT (10.82732 59.93626)</td>\n",
       "    </tr>\n",
       "    <tr>\n",
       "      <th>1</th>\n",
       "      <td>1026597066485772288</td>\n",
       "      <td>59.9106</td>\n",
       "      <td>10.7465</td>\n",
       "      <td>1200577</td>\n",
       "      <td>None</td>\n",
       "      <td>None</td>\n",
       "      <td>POINT (10.74650 59.91060)</td>\n",
       "    </tr>\n",
       "    <tr>\n",
       "      <th>2</th>\n",
       "      <td>1026596950710337536</td>\n",
       "      <td>59.9106</td>\n",
       "      <td>10.7465</td>\n",
       "      <td>1200578</td>\n",
       "      <td>None</td>\n",
       "      <td>None</td>\n",
       "      <td>POINT (10.74650 59.91060)</td>\n",
       "    </tr>\n",
       "    <tr>\n",
       "      <th>3</th>\n",
       "      <td>1026596861803683840</td>\n",
       "      <td>59.9106</td>\n",
       "      <td>10.7465</td>\n",
       "      <td>1200579</td>\n",
       "      <td>None</td>\n",
       "      <td>None</td>\n",
       "      <td>POINT (10.74650 59.91060)</td>\n",
       "    </tr>\n",
       "    <tr>\n",
       "      <th>4</th>\n",
       "      <td>1026596746133221376</td>\n",
       "      <td>59.9106</td>\n",
       "      <td>10.7465</td>\n",
       "      <td>1200580</td>\n",
       "      <td>None</td>\n",
       "      <td>None</td>\n",
       "      <td>POINT (10.74650 59.91060)</td>\n",
       "    </tr>\n",
       "  </tbody>\n",
       "</table>\n",
       "</div>"
      ],
      "text/plain": [
       "                    id       lat       lon   id_str row_id user_id  \\\n",
       "0   982346962690367488  59.93626  10.82732  1200483   None    None   \n",
       "1  1026597066485772288   59.9106   10.7465  1200577   None    None   \n",
       "2  1026596950710337536   59.9106   10.7465  1200578   None    None   \n",
       "3  1026596861803683840   59.9106   10.7465  1200579   None    None   \n",
       "4  1026596746133221376   59.9106   10.7465  1200580   None    None   \n",
       "\n",
       "                    geometry  \n",
       "0  POINT (10.82732 59.93626)  \n",
       "1  POINT (10.74650 59.91060)  \n",
       "2  POINT (10.74650 59.91060)  \n",
       "3  POINT (10.74650 59.91060)  \n",
       "4  POINT (10.74650 59.91060)  "
      ]
     },
     "execution_count": 17,
     "metadata": {},
     "output_type": "execute_result"
    }
   ],
   "source": [
    "oslo_tweets = gpd.read_file('https://github.com/haavardaagesen/gmgi210/raw/refs/heads/main/data/oslo_tweets.gpkg')\n",
    "oslo_tweets.head()"
   ]
  },
  {
   "cell_type": "code",
   "execution_count": 18,
   "id": "3d5b6457-91db-46a4-ac1d-fb81e8fd3c2d",
   "metadata": {
    "tags": []
   },
   "outputs": [
    {
     "data": {
      "image/png": "[encoded data removed]",
      "text/plain": [
       "<Figure size 640x480 with 1 Axes>"
      ]
     },
     "metadata": {},
     "output_type": "display_data"
    }
   ],
   "source": [
    "# Create a figure with one subplot\n",
    "fig, ax = plt.subplots()\n",
    "\n",
    "# Plot polygons\n",
    "bydeler.plot(ax=ax, facecolor='gray')\n",
    "marka.plot(ax=ax, facecolor='red')\n",
    "\n",
    "oslo_tweets.plot(ax=ax)\n",
    "plt.tight_layout()"
   ]
  },
  {
   "cell_type": "markdown",
   "id": "a3df955e-8908-4155-94b8-5dcf7fc33c98",
   "metadata": {},
   "source": [
    "For å filtrere punktene våre, kan vi lage en maske ved å bruke ``within``\n",
    "funksjonaliteten i sentrums geometrien vår:"
   ]
  },
  {
   "cell_type": "code",
   "execution_count": 19,
   "id": "dc41a4fc-c965-478c-b77a-72286707a345",
   "metadata": {
    "tags": []
   },
   "outputs": [
    {
     "name": "stdout",
     "output_type": "stream",
     "text": [
      "  bydelsnr bynavn                                           geometry\n",
      "0   030117   Oslo  POLYGON ((10.84794 59.83820, 10.84796 59.83853...\n"
     ]
    }
   ],
   "source": [
    "print(marka)"
   ]
  },
  {
   "cell_type": "code",
   "execution_count": 20,
   "id": "5941c0fe-eda9-459c-9193-7e5859480f5c",
   "metadata": {
    "tags": []
   },
   "outputs": [
    {
     "name": "stdout",
     "output_type": "stream",
     "text": [
      "0    False\n",
      "1    False\n",
      "2    False\n",
      "3    False\n",
      "4    False\n",
      "5    False\n",
      "6    False\n",
      "7    False\n",
      "8    False\n",
      "9    False\n",
      "dtype: bool\n"
     ]
    }
   ],
   "source": [
    "pip_mask = oslo_tweets.within(marka.at[0, 'geometry'])\n",
    "print(pip_mask.head(10))"
   ]
  },
  {
   "cell_type": "markdown",
   "id": "8a35f0cb-ecfe-48a4-bad2-34ebf32bc5f2",
   "metadata": {
    "execution": {
     "iopub.execute_input": "2022-09-27T12:23:41.667138Z",
     "iopub.status.busy": "2022-09-27T12:23:41.666937Z",
     "iopub.status.idle": "2022-09-27T12:23:41.670356Z",
     "shell.execute_reply": "2022-09-27T12:23:41.669849Z",
     "shell.execute_reply.started": "2022-09-27T12:23:41.667123Z"
    }
   },
   "source": [
    "Vi kan nå velge punktene fra oslo_tweets, basert på masken vår:"
   ]
  },
  {
   "cell_type": "code",
   "execution_count": 21,
   "id": "645037ac-166c-4866-a026-1cbd49bd7bd7",
   "metadata": {
    "tags": []
   },
   "outputs": [
    {
     "data": {
      "text/html": [
       "<div>\n",
       "<style scoped>\n",
       "    .dataframe tbody tr th:only-of-type {\n",
       "        vertical-align: middle;\n",
       "    }\n",
       "\n",
       "    .dataframe tbody tr th {\n",
       "        vertical-align: top;\n",
       "    }\n",
       "\n",
       "    .dataframe thead th {\n",
       "        text-align: right;\n",
       "    }\n",
       "</style>\n",
       "<table border=\"1\" class=\"dataframe\">\n",
       "  <thead>\n",
       "    <tr style=\"text-align: right;\">\n",
       "      <th></th>\n",
       "      <th>id</th>\n",
       "      <th>lat</th>\n",
       "      <th>lon</th>\n",
       "      <th>id_str</th>\n",
       "      <th>row_id</th>\n",
       "      <th>user_id</th>\n",
       "      <th>geometry</th>\n",
       "    </tr>\n",
       "  </thead>\n",
       "  <tbody>\n",
       "    <tr>\n",
       "      <th>7373</th>\n",
       "      <td>1038678408408907776</td>\n",
       "      <td>59.89007828</td>\n",
       "      <td>10.86457559</td>\n",
       "      <td>2499649</td>\n",
       "      <td>None</td>\n",
       "      <td>None</td>\n",
       "      <td>POINT (10.86458 59.89008)</td>\n",
       "    </tr>\n",
       "    <tr>\n",
       "      <th>8923</th>\n",
       "      <td>1027105146570985472</td>\n",
       "      <td>59.88870077</td>\n",
       "      <td>10.86744953</td>\n",
       "      <td>2439972</td>\n",
       "      <td>None</td>\n",
       "      <td>None</td>\n",
       "      <td>POINT (10.86745 59.88870)</td>\n",
       "    </tr>\n",
       "    <tr>\n",
       "      <th>21262</th>\n",
       "      <td>1039909235025485824</td>\n",
       "      <td>59.88906248</td>\n",
       "      <td>10.86361219</td>\n",
       "      <td>5266429</td>\n",
       "      <td>None</td>\n",
       "      <td>None</td>\n",
       "      <td>POINT (10.86361 59.88906)</td>\n",
       "    </tr>\n",
       "    <tr>\n",
       "      <th>21937</th>\n",
       "      <td>1038507952611749888</td>\n",
       "      <td>59.89007828</td>\n",
       "      <td>10.86457559</td>\n",
       "      <td>5950788</td>\n",
       "      <td>None</td>\n",
       "      <td>None</td>\n",
       "      <td>POINT (10.86458 59.89008)</td>\n",
       "    </tr>\n",
       "  </tbody>\n",
       "</table>\n",
       "</div>"
      ],
      "text/plain": [
       "                        id          lat          lon   id_str row_id user_id  \\\n",
       "7373   1038678408408907776  59.89007828  10.86457559  2499649   None    None   \n",
       "8923   1027105146570985472  59.88870077  10.86744953  2439972   None    None   \n",
       "21262  1039909235025485824  59.88906248  10.86361219  5266429   None    None   \n",
       "21937  1038507952611749888  59.89007828  10.86457559  5950788   None    None   \n",
       "\n",
       "                        geometry  \n",
       "7373   POINT (10.86458 59.89008)  \n",
       "8923   POINT (10.86745 59.88870)  \n",
       "21262  POINT (10.86361 59.88906)  \n",
       "21937  POINT (10.86458 59.89008)  "
      ]
     },
     "execution_count": 21,
     "metadata": {},
     "output_type": "execute_result"
    }
   ],
   "source": [
    "pip_data = oslo_tweets.loc[pip_mask]\n",
    "pip_data"
   ]
  },
  {
   "cell_type": "markdown",
   "id": "f657732d-c3b4-439e-97fe-85221d2496bb",
   "metadata": {},
   "source": [
    "Vi kan nå plotte de ulike lagene våre og se hvilke punkt som har blitt valgt ut:"
   ]
  },
  {
   "cell_type": "code",
   "execution_count": 22,
   "id": "2c269bb6-2981-4e17-ba37-50e91ed82ede",
   "metadata": {
    "tags": []
   },
   "outputs": [
    {
     "data": {
      "image/png": "[encoded data removed]",
      "text/plain": [
       "<Figure size 640x480 with 1 Axes>"
      ]
     },
     "metadata": {},
     "output_type": "display_data"
    }
   ],
   "source": [
    "# Create a figure with one subplot\n",
    "fig, ax = plt.subplots()\n",
    "\n",
    "# Plot polygons\n",
    "bydeler.plot(ax=ax, facecolor='gray')\n",
    "marka.plot(ax=ax, facecolor='red')\n",
    "\n",
    "# Plot points\n",
    "pip_data.plot(ax=ax, color='gold', markersize=2)\n",
    "\n",
    "plt.tight_layout()"
   ]
  },
  {
   "cell_type": "code",
   "execution_count": 23,
   "id": "c9fe4c7f-306d-4c2a-8df5-4693a7bd3d52",
   "metadata": {},
   "outputs": [
    {
     "data": {
      "text/html": [
       "<div style=\"width:100%;\"><div style=\"position:relative;width:100%;height:0;padding-bottom:60%;\"><span style=\"color:#565656\">Make this Notebook Trusted to load map: File -> Trust Notebook</span><iframe srcdoc=\"&lt;!DOCTYPE html&gt;\n",
       "&lt;html&gt;\n",
       "&lt;head&gt;\n",
       "    \n",
       "    &lt;meta http-equiv=&quot;content-type&quot; content=&quot;text/html; charset=UTF-8&quot; /&gt;\n",
       "    \n",
       "        &lt;script&gt;\n",
       "            L_NO_TOUCH = false;\n",
       "            L_DISABLE_3D = false;\n",
       "        &lt;/script&gt;\n",
       "    \n",
       "    &lt;style&gt;html, body {width: 100%;height: 100%;margin: 0;padding: 0;}&lt;/style&gt;\n",
       "    &lt;style&gt;#map {position:absolute;top:0;bottom:0;right:0;left:0;}&lt;/style&gt;\n",
       "    &lt;script src=&quot;https://cdn.jsdelivr.net/npm/leaflet@1.6.0/dist/leaflet.js&quot;&gt;&lt;/script&gt;\n",
       "    &lt;script src=&quot;https://code.jquery.com/jquery-1.12.4.min.js&quot;&gt;&lt;/script&gt;\n",
       "    &lt;script src=&quot;https://maxcdn.bootstrapcdn.com/bootstrap/3.2.0/js/bootstrap.min.js&quot;&gt;&lt;/script&gt;\n",
       "    &lt;script src=&quot;https://cdnjs.cloudflare.com/ajax/libs/Leaflet.awesome-markers/2.0.2/leaflet.awesome-markers.js&quot;&gt;&lt;/script&gt;\n",
       "    &lt;link rel=&quot;stylesheet&quot; href=&quot;https://cdn.jsdelivr.net/npm/leaflet@1.6.0/dist/leaflet.css&quot;/&gt;\n",
       "    &lt;link rel=&quot;stylesheet&quot; href=&quot;https://maxcdn.bootstrapcdn.com/bootstrap/3.2.0/css/bootstrap.min.css&quot;/&gt;\n",
       "    &lt;link rel=&quot;stylesheet&quot; href=&quot;https://maxcdn.bootstrapcdn.com/bootstrap/3.2.0/css/bootstrap-theme.min.css&quot;/&gt;\n",
       "    &lt;link rel=&quot;stylesheet&quot; href=&quot;https://maxcdn.bootstrapcdn.com/font-awesome/4.6.3/css/font-awesome.min.css&quot;/&gt;\n",
       "    &lt;link rel=&quot;stylesheet&quot; href=&quot;https://cdnjs.cloudflare.com/ajax/libs/Leaflet.awesome-markers/2.0.2/leaflet.awesome-markers.css&quot;/&gt;\n",
       "    &lt;link rel=&quot;stylesheet&quot; href=&quot;https://cdn.jsdelivr.net/gh/python-visualization/folium/folium/templates/leaflet.awesome.rotate.min.css&quot;/&gt;\n",
       "    \n",
       "            &lt;meta name=&quot;viewport&quot; content=&quot;width=device-width,\n",
       "                initial-scale=1.0, maximum-scale=1.0, user-scalable=no&quot; /&gt;\n",
       "            &lt;style&gt;\n",
       "                #map_0a92fb2cc6276f6ca9459e618f35c3d8 {\n",
       "                    position: relative;\n",
       "                    width: 100.0%;\n",
       "                    height: 100.0%;\n",
       "                    left: 0.0%;\n",
       "                    top: 0.0%;\n",
       "                }\n",
       "            &lt;/style&gt;\n",
       "        \n",
       "    \n",
       "                    &lt;style&gt;\n",
       "                        .foliumtooltip {\n",
       "                            \n",
       "                        }\n",
       "                       .foliumtooltip table{\n",
       "                            margin: auto;\n",
       "                        }\n",
       "                        .foliumtooltip tr{\n",
       "                            text-align: left;\n",
       "                        }\n",
       "                        .foliumtooltip th{\n",
       "                            padding: 2px; padding-right: 8px;\n",
       "                        }\n",
       "                    &lt;/style&gt;\n",
       "            \n",
       "&lt;/head&gt;\n",
       "&lt;body&gt;\n",
       "    \n",
       "    \n",
       "            &lt;div class=&quot;folium-map&quot; id=&quot;map_0a92fb2cc6276f6ca9459e618f35c3d8&quot; &gt;&lt;/div&gt;\n",
       "        \n",
       "&lt;/body&gt;\n",
       "&lt;script&gt;\n",
       "    \n",
       "    \n",
       "            var map_0a92fb2cc6276f6ca9459e618f35c3d8 = L.map(\n",
       "                &quot;map_0a92fb2cc6276f6ca9459e618f35c3d8&quot;,\n",
       "                {\n",
       "                    center: [59.889389525, 10.86553086],\n",
       "                    crs: L.CRS.EPSG3857,\n",
       "                    zoom: 10,\n",
       "                    zoomControl: true,\n",
       "                    preferCanvas: false,\n",
       "                }\n",
       "            );\n",
       "            L.control.scale().addTo(map_0a92fb2cc6276f6ca9459e618f35c3d8);\n",
       "\n",
       "            \n",
       "\n",
       "        \n",
       "    \n",
       "            var tile_layer_3438af4dde9504105835c58dca79a6e5 = L.tileLayer(\n",
       "                &quot;https://{s}.tile.openstreetmap.org/{z}/{x}/{y}.png&quot;,\n",
       "                {&quot;attribution&quot;: &quot;Data by \\u0026copy; \\u003ca href=\\&quot;http://openstreetmap.org\\&quot;\\u003eOpenStreetMap\\u003c/a\\u003e, under \\u003ca href=\\&quot;http://www.openstreetmap.org/copyright\\&quot;\\u003eODbL\\u003c/a\\u003e.&quot;, &quot;detectRetina&quot;: false, &quot;maxNativeZoom&quot;: 18, &quot;maxZoom&quot;: 18, &quot;minZoom&quot;: 0, &quot;noWrap&quot;: false, &quot;opacity&quot;: 1, &quot;subdomains&quot;: &quot;abc&quot;, &quot;tms&quot;: false}\n",
       "            ).addTo(map_0a92fb2cc6276f6ca9459e618f35c3d8);\n",
       "        \n",
       "    \n",
       "            map_0a92fb2cc6276f6ca9459e618f35c3d8.fitBounds(\n",
       "                [[59.88870077, 10.86361219], [59.89007828, 10.86744953]],\n",
       "                {}\n",
       "            );\n",
       "        \n",
       "    \n",
       "        function geo_json_169ff7221e9f800eed28f6f2e06a3cbb_styler(feature) {\n",
       "            switch(feature.id) {\n",
       "                default:\n",
       "                    return {&quot;fillOpacity&quot;: 0.5, &quot;weight&quot;: 2};\n",
       "            }\n",
       "        }\n",
       "        function geo_json_169ff7221e9f800eed28f6f2e06a3cbb_highlighter(feature) {\n",
       "            switch(feature.id) {\n",
       "                default:\n",
       "                    return {&quot;fillOpacity&quot;: 0.75};\n",
       "            }\n",
       "        }\n",
       "        function geo_json_169ff7221e9f800eed28f6f2e06a3cbb_pointToLayer(feature, latlng) {\n",
       "            var opts = {&quot;bubblingMouseEvents&quot;: true, &quot;color&quot;: &quot;#3388ff&quot;, &quot;dashArray&quot;: null, &quot;dashOffset&quot;: null, &quot;fill&quot;: true, &quot;fillColor&quot;: &quot;#3388ff&quot;, &quot;fillOpacity&quot;: 0.2, &quot;fillRule&quot;: &quot;evenodd&quot;, &quot;lineCap&quot;: &quot;round&quot;, &quot;lineJoin&quot;: &quot;round&quot;, &quot;opacity&quot;: 1.0, &quot;radius&quot;: 2, &quot;stroke&quot;: true, &quot;weight&quot;: 3};\n",
       "            \n",
       "            let style = geo_json_169ff7221e9f800eed28f6f2e06a3cbb_styler(feature)\n",
       "            Object.assign(opts, style)\n",
       "            \n",
       "            return new L.CircleMarker(latlng, opts)\n",
       "        }\n",
       "\n",
       "        function geo_json_169ff7221e9f800eed28f6f2e06a3cbb_onEachFeature(feature, layer) {\n",
       "            layer.on({\n",
       "                mouseout: function(e) {\n",
       "                    if(typeof e.target.setStyle === &quot;function&quot;){\n",
       "                        geo_json_169ff7221e9f800eed28f6f2e06a3cbb.resetStyle(e.target);\n",
       "                    }\n",
       "                },\n",
       "                mouseover: function(e) {\n",
       "                    if(typeof e.target.setStyle === &quot;function&quot;){\n",
       "                        const highlightStyle = geo_json_169ff7221e9f800eed28f6f2e06a3cbb_highlighter(e.target.feature)\n",
       "                        e.target.setStyle(highlightStyle);\n",
       "                    }\n",
       "                },\n",
       "            });\n",
       "        };\n",
       "        var geo_json_169ff7221e9f800eed28f6f2e06a3cbb = L.geoJson(null, {\n",
       "                onEachFeature: geo_json_169ff7221e9f800eed28f6f2e06a3cbb_onEachFeature,\n",
       "            \n",
       "                style: geo_json_169ff7221e9f800eed28f6f2e06a3cbb_styler,\n",
       "                pointToLayer: geo_json_169ff7221e9f800eed28f6f2e06a3cbb_pointToLayer\n",
       "        });\n",
       "\n",
       "        function geo_json_169ff7221e9f800eed28f6f2e06a3cbb_add (data) {\n",
       "            geo_json_169ff7221e9f800eed28f6f2e06a3cbb\n",
       "                .addData(data)\n",
       "                .addTo(map_0a92fb2cc6276f6ca9459e618f35c3d8);\n",
       "        }\n",
       "            geo_json_169ff7221e9f800eed28f6f2e06a3cbb_add({&quot;bbox&quot;: [10.86361219, 59.88870077, 10.86744953, 59.89007828], &quot;features&quot;: [{&quot;bbox&quot;: [10.86457559, 59.89007828, 10.86457559, 59.89007828], &quot;geometry&quot;: {&quot;coordinates&quot;: [10.86457559, 59.89007828], &quot;type&quot;: &quot;Point&quot;}, &quot;id&quot;: &quot;7373&quot;, &quot;properties&quot;: {&quot;id&quot;: &quot;1038678408408907776&quot;, &quot;id_str&quot;: &quot;2499649&quot;, &quot;lat&quot;: &quot;59.89007828&quot;, &quot;lon&quot;: &quot;10.86457559&quot;, &quot;row_id&quot;: null, &quot;user_id&quot;: null}, &quot;type&quot;: &quot;Feature&quot;}, {&quot;bbox&quot;: [10.86744953, 59.88870077, 10.86744953, 59.88870077], &quot;geometry&quot;: {&quot;coordinates&quot;: [10.86744953, 59.88870077], &quot;type&quot;: &quot;Point&quot;}, &quot;id&quot;: &quot;8923&quot;, &quot;properties&quot;: {&quot;id&quot;: &quot;1027105146570985472&quot;, &quot;id_str&quot;: &quot;2439972&quot;, &quot;lat&quot;: &quot;59.88870077&quot;, &quot;lon&quot;: &quot;10.86744953&quot;, &quot;row_id&quot;: null, &quot;user_id&quot;: null}, &quot;type&quot;: &quot;Feature&quot;}, {&quot;bbox&quot;: [10.86361219, 59.88906248, 10.86361219, 59.88906248], &quot;geometry&quot;: {&quot;coordinates&quot;: [10.86361219, 59.88906248], &quot;type&quot;: &quot;Point&quot;}, &quot;id&quot;: &quot;21262&quot;, &quot;properties&quot;: {&quot;id&quot;: &quot;1039909235025485824&quot;, &quot;id_str&quot;: &quot;5266429&quot;, &quot;lat&quot;: &quot;59.88906248&quot;, &quot;lon&quot;: &quot;10.86361219&quot;, &quot;row_id&quot;: null, &quot;user_id&quot;: null}, &quot;type&quot;: &quot;Feature&quot;}, {&quot;bbox&quot;: [10.86457559, 59.89007828, 10.86457559, 59.89007828], &quot;geometry&quot;: {&quot;coordinates&quot;: [10.86457559, 59.89007828], &quot;type&quot;: &quot;Point&quot;}, &quot;id&quot;: &quot;21937&quot;, &quot;properties&quot;: {&quot;id&quot;: &quot;1038507952611749888&quot;, &quot;id_str&quot;: &quot;5950788&quot;, &quot;lat&quot;: &quot;59.89007828&quot;, &quot;lon&quot;: &quot;10.86457559&quot;, &quot;row_id&quot;: null, &quot;user_id&quot;: null}, &quot;type&quot;: &quot;Feature&quot;}], &quot;type&quot;: &quot;FeatureCollection&quot;});\n",
       "\n",
       "        \n",
       "    \n",
       "    geo_json_169ff7221e9f800eed28f6f2e06a3cbb.bindTooltip(\n",
       "    function(layer){\n",
       "    let div = L.DomUtil.create(&#x27;div&#x27;);\n",
       "    \n",
       "    let handleObject = feature=&gt;typeof(feature)==&#x27;object&#x27; ? JSON.stringify(feature) : feature;\n",
       "    let fields = [&quot;id&quot;, &quot;lat&quot;, &quot;lon&quot;, &quot;id_str&quot;, &quot;row_id&quot;, &quot;user_id&quot;];\n",
       "    let aliases = [&quot;id&quot;, &quot;lat&quot;, &quot;lon&quot;, &quot;id_str&quot;, &quot;row_id&quot;, &quot;user_id&quot;];\n",
       "    let table = &#x27;&lt;table&gt;&#x27; +\n",
       "        String(\n",
       "        fields.map(\n",
       "        (v,i)=&gt;\n",
       "        `&lt;tr&gt;\n",
       "            &lt;th&gt;${aliases[i]}&lt;/th&gt;\n",
       "            \n",
       "            &lt;td&gt;${handleObject(layer.feature.properties[v])}&lt;/td&gt;\n",
       "        &lt;/tr&gt;`).join(&#x27;&#x27;))\n",
       "    +&#x27;&lt;/table&gt;&#x27;;\n",
       "    div.innerHTML=table;\n",
       "    \n",
       "    return div\n",
       "    }\n",
       "    ,{&quot;className&quot;: &quot;foliumtooltip&quot;, &quot;sticky&quot;: true});\n",
       "                     \n",
       "&lt;/script&gt;\n",
       "&lt;/html&gt;\" style=\"position:absolute;width:100%;height:100%;left:0;top:0;border:none !important;\" allowfullscreen webkitallowfullscreen mozallowfullscreen></iframe></div></div>"
      ],
      "text/plain": [
       "<folium.folium.Map at 0x7f122dcc5610>"
      ]
     },
     "execution_count": 23,
     "metadata": {},
     "output_type": "execute_result"
    }
   ],
   "source": [
    "pip_data.explore()"
   ]
  },
  {
   "cell_type": "code",
   "execution_count": null,
   "id": "97e05c84-6bf7-4aa8-a770-d289df9259be",
   "metadata": {},
   "outputs": [],
   "source": []
  }
 ],
 "metadata": {
  "kernelspec": {
   "display_name": "py311",
   "language": "python",
   "name": "python3"
  },
  "language_info": {
   "codemirror_mode": {
    "name": "ipython",
    "version": 3
   },
   "file_extension": ".py",
   "mimetype": "text/x-python",
   "name": "python",
   "nbconvert_exporter": "python",
   "pygments_lexer": "ipython3",
   "version": "3.11.0"
  }
 },
 "nbformat": 4,
 "nbformat_minor": 5
}
