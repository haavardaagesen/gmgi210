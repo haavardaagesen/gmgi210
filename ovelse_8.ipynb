{
 "cells": [
  {
   "cell_type": "markdown",
   "id": "134aca78-2984-4877-82ca-57e0d3f43e65",
   "metadata": {},
   "source": [
    "# Øvelse 8"
   ]
  },
  {
   "cell_type": "markdown",
   "id": "6980c346-c423-4637-b0e2-1c7a3093467d",
   "metadata": {},
   "source": [
    "I denne øvingsoppgaven skal dere finne ut av hvor mange mennesker som bor innenfor en 3000-meter radius fra Ås videregående skole. Noen av kodecellene er allerede utfylt, men dere skal selv fylle ut resten. Dere kan løse oppgaven litt som dere vil, så lenge dere bruker variabelnavnene som blir beskrevet her.\n",
    "\n",
    "Husk å lagre og laste ned denne Notebook-en når du har fylt den ut og last den opp på Canvas som svar på øvingsoppgaven"
   ]
  },
  {
   "cell_type": "markdown",
   "id": "213e2116-1c69-40e9-907b-d85aa2fa154b",
   "metadata": {},
   "source": [
    "Importer de nødvendige bibliotekene:"
   ]
  },
  {
   "cell_type": "code",
   "execution_count": null,
   "id": "32423d43-08cc-45b5-adbd-1ddb0ca10e16",
   "metadata": {
    "tags": []
   },
   "outputs": [],
   "source": [
    "import geopandas as gpd\n",
    "import matplotlib.pyplot as plt"
   ]
  },
  {
   "cell_type": "markdown",
   "id": "ed4f4f07-164d-4efd-a2e1-3cd9085e67b5",
   "metadata": {},
   "source": [
    "## Lese inn befolkningsdata\n",
    "\n",
    "I denne oppgaven skal du bruke to datasett; et befolkningsgrid og en fil for Ås VGS. Stiene er henholdsvis:\n",
    "1. `https://github.com/haavardaagesen/gmgi210/raw/refs/heads/main/data/befolkning_viken_2018.gml`\n",
    "2. `https://github.com/haavardaagesen/gmgi210/raw/refs/heads/main/data/aas_vgs.gml`\n",
    "\n",
    "Vi skal nå lese inn befolkningsgriden:\n",
    "1. Bruk `read_file`-funksjonen til geopandas og skriv inn stien til befolkningsdataene, og lagre det i en variabel med navn `befolkning`\n",
    "2. Gjør deg kjent med datasettet ved å bruke `.head()`-funksjonen"
   ]
  },
  {
   "cell_type": "code",
   "execution_count": null,
   "id": "5b6bae36-1f93-4acb-a66a-06ece2217d65",
   "metadata": {
    "tags": []
   },
   "outputs": [],
   "source": []
  },
  {
   "cell_type": "markdown",
   "id": "3f99c949-a5a8-43ad-8cf9-b722f9b9bbe9",
   "metadata": {},
   "source": [
    "Nå skal du ha en GeoDataFrame med befolkningstallet for hver grid-celle. Befolkningstallet vi skal bruke senere ligger i kolonnen `popTot`.\n",
    "Bruk `.plot()`-funksjonen til å lage et raskt kart over griden."
   ]
  },
  {
   "cell_type": "code",
   "execution_count": null,
   "id": "893020d3-f2ee-4184-a1bb-a10701ba4d02",
   "metadata": {
    "tags": []
   },
   "outputs": [],
   "source": []
  },
  {
   "cell_type": "markdown",
   "id": "1a61071b-a3b1-41f0-8057-ba239493ffb9",
   "metadata": {},
   "source": [
    "## Lese inn VGS-data\n",
    "\n",
    "Les inn filen for Ås VGS på samme måte som med befolkningsdataene. Lagre det i en variabel som heter `vgs` og inspiser dataene med `.head)`"
   ]
  },
  {
   "cell_type": "code",
   "execution_count": null,
   "id": "0c14eb4d-2d78-40fa-91df-15bbcee8fa11",
   "metadata": {
    "tags": []
   },
   "outputs": [],
   "source": []
  },
  {
   "cell_type": "markdown",
   "id": "28cf681c-45f5-49f1-9116-0758773cf88c",
   "metadata": {},
   "source": [
    "Du skal nå ha en GeoDataFrame med bare ett punkt. Sjekk om dette stemmer ved å plotte en raskt kart."
   ]
  },
  {
   "cell_type": "code",
   "execution_count": null,
   "id": "dca65e96-d653-4c6f-836b-0c2609ac67a7",
   "metadata": {
    "tags": []
   },
   "outputs": [],
   "source": []
  },
  {
   "cell_type": "markdown",
   "id": "493680ea-e602-446d-bd24-be0a3e57745d",
   "metadata": {},
   "source": [
    "## Lage en buffer\n",
    "\n",
    "For å se hvor mange som bor innenfor en viss radius av Ås VGS, skal vi nå buffre 3000 meter rundt skolen:\n",
    "\n",
    "For å lage en buffer, bruker vi den innebydge funksjonen `.buffer()` og så angi hvor mange meter vi ønsker å buffre i funksjonen. `.buffer()`-funksjonen kan vi bruke direkte på en GeoDataFrame, for eksempel ved `vgs.buffer(antallMeter)`.\n",
    "Lagre resultatet i en ny variabel som du kaller `skole_buffer`.\n",
    "\n",
    "For å sjekke om resultatet ser riktig ut, kan du plotte den nye bufferen og se om du har en helt rund sirkel."
   ]
  },
  {
   "cell_type": "code",
   "execution_count": null,
   "id": "630d762b-0308-4af6-9115-20e50f4afdac",
   "metadata": {
    "tags": []
   },
   "outputs": [],
   "source": []
  },
  {
   "cell_type": "markdown",
   "id": "28fed139-6493-4d40-9503-ec909a55e433",
   "metadata": {},
   "source": [
    "## Lage en GeoDataFrame fra bufferen\n",
    "\n",
    "For å koble den nye bufferen vår sammen med befolkningsdatane, må vi først gjøre bufferen om til en GeoDataFrame:\n",
    "\n",
    "1. Bruk Geopandas sin funksjon for å lage en GeoDataFrame: `gpd.GeoDataFrame()` og gi den parametrene `skole_buffer` og `geometry=skole_buffer`\n",
    "2. Lagre den nye GeoDataFramen i en variabel som heter `buffer_gdf`.\n",
    "3. For å sjekke at alt er riktig kan du printe ut den nye `buffer_gdf` og bruke `type()` for å se at alt stemmer"
   ]
  },
  {
   "cell_type": "code",
   "execution_count": null,
   "id": "a9fa726c-6e49-44ce-a061-6f1cbfd65dd6",
   "metadata": {
    "tags": []
   },
   "outputs": [],
   "source": []
  },
  {
   "cell_type": "markdown",
   "id": "02c5cce8-7244-40f1-b832-b8e6c9ac9e57",
   "metadata": {},
   "source": [
    "## Punkt/Grid-celle i polygon-analyse\n",
    "\n",
    "Vi skal nå finne ut hvilke av grid-cellene som befinner seg innenfor bufferen vår og hvor mange som bor i disse grid-cellene.\n",
    "\n",
    "Først kan vi lage en maske som vi bruker til å velge ut grid-cellene som faller innenfor bufferen. Se også [PiP_og_Intersect-notebooken](../4/PiP_og_intersect_utfylt.ipynb) i mappen for uke 4 for å se hvordan vi gjorde det da.\n",
    "\n",
    "1. Bruk `within()`-funksjonen på befolkningsdatasettet, og angi buffer-GeoDataFramen vår som parameter. Husk å angi geometrien, f.eks. ved hjelp av `at[0, 'geometry']`\n",
    "2. Lagre resultatet som variablen `pip_mask`\n",
    "3. Bruk denne masken til å filtrere beolkningsdataene våre. `.loc[]` er en nyttig funksjon for å få til det.\n",
    "4. Lagre dette resultatet i variablen `pip_data`"
   ]
  },
  {
   "cell_type": "code",
   "execution_count": null,
   "id": "138f613a-f1d5-4cf4-a2e8-31c61ae72e31",
   "metadata": {
    "tags": []
   },
   "outputs": [],
   "source": []
  },
  {
   "cell_type": "code",
   "execution_count": null,
   "id": "3ff91223-b184-4d9b-8b26-eab27a7c3633",
   "metadata": {
    "tags": []
   },
   "outputs": [],
   "source": []
  },
  {
   "cell_type": "markdown",
   "id": "a3ef8f32-59b6-486d-986f-a4bb873a49f5",
   "metadata": {
    "execution": {
     "iopub.execute_input": "2022-11-28T12:39:55.429080Z",
     "iopub.status.busy": "2022-11-28T12:39:55.428809Z",
     "iopub.status.idle": "2022-11-28T12:39:55.431918Z",
     "shell.execute_reply": "2022-11-28T12:39:55.431390Z",
     "shell.execute_reply.started": "2022-11-28T12:39:55.429064Z"
    },
    "tags": []
   },
   "source": [
    "Nå skal vi sitte igjen med kun de grid-cellene som er innenfor 3000 meter fra Ås VGS. Vi kan sjekke hvor mange celler dette er ved å ta en titt på `pip_data`. Bruk enten `.shape`- eller `len()`-funksjonen til å finne ut hvor mange celler/rader vi har i `pip_data`."
   ]
  },
  {
   "cell_type": "code",
   "execution_count": null,
   "id": "26594bb0-66ec-4135-addf-5e3cc66585e4",
   "metadata": {
    "tags": []
   },
   "outputs": [],
   "source": []
  },
  {
   "cell_type": "markdown",
   "id": "a26ff4d1-8ef1-4e4e-8a15-cf764a0a0077",
   "metadata": {},
   "source": [
    "Nå vet vi hvor mange grid-celler dette gjelder, men hvor mange mennesker er det som bor i disse cellene?\n",
    "\n",
    "La oss finne ut av det. Befolkningstallet for hver celle er lagret i `popTot`-kolonnene. For å finne summen av alle cellene, kan vi bruke `.sum()`-funksjonen på en enkelt kolonne i GeoDataFramen. Velg riktig kolonne i `pip_data` og bruk `.sum()` og lagre resultatet i en variable med navn `antall`. \n",
    "\n",
    "Print ut antallet. "
   ]
  },
  {
   "cell_type": "code",
   "execution_count": null,
   "id": "f28bb14c-a6ce-4c88-a54a-f734254c8d8f",
   "metadata": {
    "tags": []
   },
   "outputs": [],
   "source": []
  },
  {
   "cell_type": "markdown",
   "id": "a27ebcb2-8ba6-4111-b7c4-0503b9386ac7",
   "metadata": {},
   "source": [
    "## Visualisering\n",
    "\n",
    "Vi kan også vise utvalget av grid-celler på et interaktivt kart. Bruk `.explore()`-funksjonen til å lage et kart. Hvis du i tillegg vil visualiere hvor mange som bor i de ulike cellene, kan du gi kolonnen du ønsker å visualisere som et parameter til `column='NavnPåKolonne'` når du lager kartet. "
   ]
  },
  {
   "cell_type": "code",
   "execution_count": null,
   "id": "193ca348-5198-43f4-af9a-31ca81dcf3e1",
   "metadata": {
    "tags": []
   },
   "outputs": [],
   "source": []
  },
  {
   "cell_type": "markdown",
   "id": "87055947-6cd7-4794-a1af-9c49a6e9a251",
   "metadata": {},
   "source": [
    "# Før du leverer:\n",
    "\n",
    "Husk å lagre, laste ned og endre navn på filen, og så laste den opp på Canvas.\n",
    "\n",
    "Bruk cellen under til å kommentere om det var noe du ikke fikk til eller om noe var vanskelig:"
   ]
  },
  {
   "cell_type": "code",
   "execution_count": null,
   "id": "b5d24103-4b5c-45f5-bb32-62cbcc1d36af",
   "metadata": {},
   "outputs": [],
   "source": []
  }
 ],
 "metadata": {
  "kernelspec": {
   "display_name": "Python 3 (ipykernel)",
   "language": "python",
   "name": "python3"
  },
  "language_info": {
   "codemirror_mode": {
    "name": "ipython",
    "version": 3
   },
   "file_extension": ".py",
   "mimetype": "text/x-python",
   "name": "python",
   "nbconvert_exporter": "python",
   "pygments_lexer": "ipython3",
   "version": "3.10.6"
  }
 },
 "nbformat": 4,
 "nbformat_minor": 5
}
